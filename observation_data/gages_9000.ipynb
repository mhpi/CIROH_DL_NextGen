{
 "cells": [
  {
   "cell_type": "markdown",
   "metadata": {},
   "source": [
    "#### Writing the icechunk store for the GAGES-9000"
   ]
  },
  {
   "cell_type": "code",
   "execution_count": 1,
   "metadata": {},
   "outputs": [],
   "source": [
    "from pathlib import Path\n",
    "\n",
    "import icechunk\n",
    "import numpy as np\n",
    "import xarray as xr\n",
    "import zarr\n",
    "from icechunk.xarray import to_icechunk"
   ]
  },
  {
   "cell_type": "markdown",
   "metadata": {},
   "source": [
    "To make sure we can push to the repo, we will need to add AWS credentials to our `~/.aws/credentials` under the profile name \"CIROH_USER\""
   ]
  },
  {
   "cell_type": "code",
   "execution_count": 2,
   "metadata": {},
   "outputs": [],
   "source": [
    "import boto3\n",
    "import os\n",
    "\n",
    "profile_name = \"CIROH_USER\"  # Replace with your AWS credentials file profile name\n",
    "os.environ['AWS_PROFILE'] = profile_name"
   ]
  },
  {
   "cell_type": "code",
   "execution_count": 3,
   "metadata": {},
   "outputs": [],
   "source": [
    "file_path = Path(\"/projects/mhpi/data/observations/gages_9000.zarr\")\n",
    "bucket=\"mhpi-spatial\"\n",
    "prefix=\"usgs_streamflow_observations\"\n",
    "commit=\"initial streamflow commit\""
   ]
  },
  {
   "cell_type": "code",
   "execution_count": 17,
   "metadata": {},
   "outputs": [],
   "source": [
    "if file_path.exists() is False:\n",
    "    raise FileNotFoundError(f\"Cannot find: {file_path}\")\n",
    "root = zarr.open_group(file_path)\n",
    "keys = list(root.keys())"
   ]
  },
  {
   "cell_type": "markdown",
   "metadata": {},
   "source": [
    "Converting the cfs obs to cms, getting the dates list, then writing the zarr group to an xarray dataset. Then, we store it as an icechunk store"
   ]
  },
  {
   "cell_type": "code",
   "execution_count": 18,
   "metadata": {},
   "outputs": [],
   "source": [
    "def convert_ft3_s_to_m3_s(flow_rates_ft3_s: np.ndarray) -> np.ndarray:\n",
    "    \"\"\"\n",
    "    Convert a 2D tensor of flow rates\n",
    "    from cubic feet per second (ft³/s) to cubic meters per second (m³/s).\n",
    "    \"\"\"\n",
    "    conversion_factor = 0.0283168\n",
    "    return flow_rates_ft3_s * conversion_factor"
   ]
  },
  {
   "cell_type": "code",
   "execution_count": 43,
   "metadata": {},
   "outputs": [
    {
     "data": {
      "text/plain": [
       "DatetimeIndex(['1980-01-01', '1980-01-02', '1980-01-03', '1980-01-04',\n",
       "               '1980-01-05'],\n",
       "              dtype='datetime64[ns]', freq='D')"
      ]
     },
     "execution_count": 43,
     "metadata": {},
     "output_type": "execute_result"
    }
   ],
   "source": [
    "import pandas as pd\n",
    "from datetime import datetime, timedelta\n",
    "\n",
    "obs_data = np.zeros([len(keys), root[keys[0]].shape[0]])  # dims: gage, time\n",
    "\n",
    "origin_start_date = \"1980/01/01\"\n",
    "start_date = pd.to_datetime(origin_start_date)\n",
    "date_list = pd.date_range(start=start_date, periods=14610, freq='D')  # total number of timesteps\n",
    "date_list[0:5]"
   ]
  },
  {
   "cell_type": "code",
   "execution_count": 44,
   "metadata": {},
   "outputs": [],
   "source": [
    "for idx, key in enumerate(keys):\n",
    "    data_obs = root[key]\n",
    "    obs_data[idx, :] = data_obs\n",
    "_observations = convert_ft3_s_to_m3_s(obs_data)\n",
    "\n",
    "ds = xr.Dataset(\n",
    "    data_vars=dict(\n",
    "        streamflow=([\"gage_id\", \"time\"], _observations)\n",
    "    ),\n",
    "    coords=dict(\n",
    "        gage_id=keys,\n",
    "        time=date_list,\n",
    "    ),\n",
    "    attrs=dict(\n",
    "        description=\"GAGES-9000 training data\",\n",
    "        time_units=\"Days\",\n",
    "        streamflow_units=\"m3/s\"\n",
    "    )\n",
    ")"
   ]
  },
  {
   "cell_type": "code",
   "execution_count": 45,
   "metadata": {},
   "outputs": [
    {
     "data": {
      "text/html": [
       "<pre>&lt;xarray.Dataset&gt; Size: 1GB\n",
       "Dimensions:     (gage_id: 9067, time: 14610)\n",
       "Coordinates:\n",
       "  * gage_id     (gage_id) &lt;U15 544kB &#x27;01011000&#x27; &#x27;01017000&#x27; ... &#x27;401733105392404&#x27;\n",
       "  * time        (time) datetime64[ns] 117kB 1980-01-01 1980-01-02 ... 2019-12-31\n",
       "Data variables:\n",
       "    streamflow  (gage_id, time) float64 1GB 18.69 18.26 17.84 ... nan nan nan\n",
       "Attributes:\n",
       "    description:       GAGES-9000 training data\n",
       "    time_units:        Days\n",
       "    streamflow_units:  m3/s</pre>"
      ],
      "text/plain": [
       "<xarray.Dataset> Size: 1GB\n",
       "Dimensions:     (gage_id: 9067, time: 14610)\n",
       "Coordinates:\n",
       "  * gage_id     (gage_id) <U15 544kB '01011000' '01017000' ... '401733105392404'\n",
       "  * time        (time) datetime64[ns] 117kB 1980-01-01 1980-01-02 ... 2019-12-31\n",
       "Data variables:\n",
       "    streamflow  (gage_id, time) float64 1GB 18.69 18.26 17.84 ... nan nan nan\n",
       "Attributes:\n",
       "    description:       GAGES-9000 training data\n",
       "    time_units:        Days\n",
       "    streamflow_units:  m3/s"
      ]
     },
     "execution_count": 45,
     "metadata": {},
     "output_type": "execute_result"
    }
   ],
   "source": [
    "ds"
   ]
  },
  {
   "cell_type": "markdown",
   "metadata": {},
   "source": [
    "Now, we define our storage parameters, and can write the dataset to the cloud. Uncomment the below lines to upload"
   ]
  },
  {
   "cell_type": "code",
   "execution_count": null,
   "metadata": {},
   "outputs": [
    {
     "name": "stderr",
     "output_type": "stream",
     "text": [
      "/home/tbindas/tbindas/.conda/envs/nwm_batcher/lib/python3.12/site-packages/zarr/codecs/vlen_utf8.py:44: UserWarning: The codec `vlen-utf8` is currently not part in the Zarr format 3 specification. It may not be supported by other zarr implementations and may change in the future.\n",
      "  return cls(**configuration_parsed)\n",
      "/home/tbindas/tbindas/.conda/envs/nwm_batcher/lib/python3.12/site-packages/zarr/core/array.py:4257: UserWarning: The dtype `<U15` is currently not part in the Zarr format 3 specification. It may not be supported by other zarr implementations and may change in the future.\n",
      "  meta = AsyncArray._create_metadata_v3(\n"
     ]
    },
    {
     "name": "stdout",
     "output_type": "stream",
     "text": [
      "Data is uploaded. Commit: 9Q9V6TCEBJKY3A6AE58G\n"
     ]
    }
   ],
   "source": [
    "# storage_config = icechunk.s3_storage(\n",
    "#     bucket=bucket,\n",
    "#     prefix=prefix,\n",
    "#     region=\"us-east-2\",\n",
    "#     from_env=True\n",
    "# )\n",
    "# repo = icechunk.Repository.create(storage_config)\n",
    "# session = repo.writable_session(\"main\")\n",
    "# to_icechunk(ds, session)\n",
    "# first_snapshot = session.commit(commit)\n",
    "# print(f\"Data is uploaded. Commit: {first_snapshot}\")"
   ]
  },
  {
   "cell_type": "code",
   "execution_count": 47,
   "metadata": {},
   "outputs": [
    {
     "name": "stderr",
     "output_type": "stream",
     "text": [
      "/home/tbindas/tbindas/.conda/envs/nwm_batcher/lib/python3.12/site-packages/zarr/codecs/vlen_utf8.py:44: UserWarning: The codec `vlen-utf8` is currently not part in the Zarr format 3 specification. It may not be supported by other zarr implementations and may change in the future.\n",
      "  return cls(**configuration_parsed)\n"
     ]
    },
    {
     "data": {
      "text/html": [
       "<pre>&lt;xarray.Dataset&gt; Size: 1GB\n",
       "Dimensions:     (gage_id: 9067, time: 14610)\n",
       "Coordinates:\n",
       "  * gage_id     (gage_id) object 73kB &#x27;01011000&#x27; ... &#x27;401733105392404&#x27;\n",
       "  * time        (time) datetime64[ns] 117kB 1980-01-01 1980-01-02 ... 2019-12-31\n",
       "Data variables:\n",
       "    streamflow  (gage_id, time) float64 1GB dask.array&lt;chunksize=(284, 914), meta=np.ndarray&gt;\n",
       "Attributes:\n",
       "    description:       GAGES-9000 training data\n",
       "    time_units:        Days\n",
       "    streamflow_units:  m3/s</pre>"
      ],
      "text/plain": [
       "<xarray.Dataset> Size: 1GB\n",
       "Dimensions:     (gage_id: 9067, time: 14610)\n",
       "Coordinates:\n",
       "  * gage_id     (gage_id) object 73kB '01011000' ... '401733105392404'\n",
       "  * time        (time) datetime64[ns] 117kB 1980-01-01 1980-01-02 ... 2019-12-31\n",
       "Data variables:\n",
       "    streamflow  (gage_id, time) float64 1GB dask.array<chunksize=(284, 914), meta=np.ndarray>\n",
       "Attributes:\n",
       "    description:       GAGES-9000 training data\n",
       "    time_units:        Days\n",
       "    streamflow_units:  m3/s"
      ]
     },
     "execution_count": 47,
     "metadata": {},
     "output_type": "execute_result"
    }
   ],
   "source": [
    "storage_config = icechunk.s3_storage(\n",
    "bucket=bucket, prefix=prefix, region=\"us-east-2\", anonymous=True\n",
    ")\n",
    "repo = icechunk.Repository.open(storage_config)\n",
    "session = repo.readonly_session(\"main\")\n",
    "cloud_ds = xr.open_zarr(session.store, consolidated=False)\n",
    "\n",
    "xr.set_options(display_style=\"text\")\n",
    "cloud_ds"
   ]
  },
  {
   "cell_type": "code",
   "execution_count": 52,
   "metadata": {},
   "outputs": [
    {
     "data": {
      "text/plain": [
       "[<matplotlib.lines.Line2D at 0x7f0886dccf20>]"
      ]
     },
     "execution_count": 52,
     "metadata": {},
     "output_type": "execute_result"
    },
    {
     "data": {
      "image/png": "[encoded data removed]",
      "text/plain": [
       "<Figure size 640x480 with 1 Axes>"
      ]
     },
     "metadata": {},
     "output_type": "display_data"
    }
   ],
   "source": [
    "cloud_ds[\"streamflow\"].sel(gage_id=\"01563500\").plot()"
   ]
  },
  {
   "cell_type": "code",
   "execution_count": null,
   "metadata": {},
   "outputs": [],
   "source": []
  }
 ],
 "metadata": {
  "kernelspec": {
   "display_name": "Python 3",
   "language": "python",
   "name": "python3"
  },
  "language_info": {
   "codemirror_mode": {
    "name": "ipython",
    "version": 3
   },
   "file_extension": ".py",
   "mimetype": "text/x-python",
   "name": "python",
   "nbconvert_exporter": "python",
   "pygments_lexer": "ipython3",
   "version": "3.12.9"
  }
 },
 "nbformat": 4,
 "nbformat_minor": 2
}
