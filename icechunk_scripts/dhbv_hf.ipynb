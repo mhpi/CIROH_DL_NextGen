{
 "cells": [
  {
   "cell_type": "code",
   "execution_count": 1,
   "metadata": {},
   "outputs": [],
   "source": [
    "from pathlib import Path\n",
    "\n",
    "import geopandas as gpd\n",
    "import icechunk\n",
    "import numpy as np\n",
    "import pandas as pd\n",
    "import xarray as xr\n",
    "import zarr\n",
    "from icechunk.xarray import to_icechunk\n",
    "from tqdm.notebook import tqdm\n",
    "from virtualizarr import open_virtual_dataset"
   ]
  },
  {
   "cell_type": "code",
   "execution_count": 2,
   "metadata": {},
   "outputs": [],
   "source": [
    "import boto3\n",
    "import os\n",
    "\n",
    "profile_name = \"CIROH_USER\"  # Replace with your AWS credentials file profile name\n",
    "os.environ['AWS_PROFILE'] = profile_name"
   ]
  },
  {
   "cell_type": "code",
   "execution_count": null,
   "metadata": {},
   "outputs": [],
   "source": [
    "file_path = Path(\"/projects/mhpi/yxs275/DM_output/HydroFabric_forward_1980_2019_From_dPL_local_daymet_v6_2v18_2_oneGPU_dynamic_k0_1980_1995\")\n",
    "bucket=\"mhpi-spatial\"\n",
    "prefix=\"hydrofabric_v2.2_dhbv_retrospective\"\n",
    "commit=\"initial streamflow commit\""
   ]
  },
  {
   "cell_type": "markdown",
   "metadata": {},
   "source": [
    "### Reading the icechunk store"
   ]
  },
  {
   "cell_type": "code",
   "execution_count": 4,
   "metadata": {},
   "outputs": [
    {
     "name": "stderr",
     "output_type": "stream",
     "text": [
      "/home/tbindas/tbindas/.conda/envs/nwm_batcher/lib/python3.12/site-packages/zarr/codecs/vlen_utf8.py:44: UserWarning: The codec `vlen-utf8` is currently not part in the Zarr format 3 specification. It may not be supported by other zarr implementations and may change in the future.\n",
      "  return cls(**configuration_parsed)\n"
     ]
    },
    {
     "data": {
      "text/html": [
       "<pre>&lt;xarray.Dataset&gt; Size: 24GB\n",
       "Dimensions:    (time: 14610, divide_id: 409329)\n",
       "Coordinates:\n",
       "  * time       (time) datetime64[ns] 117kB 1980-01-01 1980-01-02 ... 2019-12-31\n",
       "  * divide_id  (divide_id) object 3MB &#x27;cat-2872054&#x27; ... &#x27;cat-837052&#x27;\n",
       "Data variables:\n",
       "    Qr         (divide_id, time) float32 24GB dask.array&lt;chunksize=(188, 1827), meta=np.ndarray&gt;\n",
       "Attributes:\n",
       "    description:  Runoff outputs from dhbv2.0 at the HFv2.2 catchment scale</pre>"
      ],
      "text/plain": [
       "<xarray.Dataset> Size: 24GB\n",
       "Dimensions:    (time: 14610, divide_id: 409329)\n",
       "Coordinates:\n",
       "  * time       (time) datetime64[ns] 117kB 1980-01-01 1980-01-02 ... 2019-12-31\n",
       "  * divide_id  (divide_id) object 3MB 'cat-2872054' ... 'cat-837052'\n",
       "Data variables:\n",
       "    Qr         (divide_id, time) float32 24GB dask.array<chunksize=(188, 1827), meta=np.ndarray>\n",
       "Attributes:\n",
       "    description:  Runoff outputs from dhbv2.0 at the HFv2.2 catchment scale"
      ]
     },
     "execution_count": 4,
     "metadata": {},
     "output_type": "execute_result"
    }
   ],
   "source": [
    "storage_config = icechunk.s3_storage(\n",
    "bucket=bucket, prefix=prefix, region=\"us-east-2\", anonymous=True\n",
    ")\n",
    "repo = icechunk.Repository.open(storage_config)\n",
    "session = repo.readonly_session(\"main\")\n",
    "cloud_ds = xr.open_zarr(session.store, consolidated=False)\n",
    "\n",
    "xr.set_options(display_style=\"text\")\n",
    "cloud_ds"
   ]
  },
  {
   "cell_type": "code",
   "execution_count": 3,
   "metadata": {},
   "outputs": [],
   "source": [
    "gdf = gpd.read_file(\"/projects/mhpi/data/hydrofabric/v2.2/conus_nextgen.gpkg\", layer=\"divides\")\n",
    "gdf = gdf.set_index(\"divide_id\")"
   ]
  },
  {
   "cell_type": "code",
   "execution_count": 4,
   "metadata": {},
   "outputs": [
    {
     "data": {
      "text/plain": [
       "(831777,)"
      ]
     },
     "execution_count": 4,
     "metadata": {},
     "output_type": "execute_result"
    }
   ],
   "source": [
    "np.unique(gdf.index).shape"
   ]
  },
  {
   "cell_type": "code",
   "execution_count": 33,
   "metadata": {},
   "outputs": [
    {
     "data": {
      "text/plain": [
       "(637309,)"
      ]
     },
     "execution_count": 33,
     "metadata": {},
     "output_type": "execute_result"
    }
   ],
   "source": [
    "root = zarr.open_group(\"/projects/mhpi/yxs275/DM_output/HydroFabric_forward_1980_2019_From_dPL_local_daymet_v6_2v18_2_oneGPU_dynamic_k0_1980_1995\")\n",
    "divide_ids = []\n",
    "for key in root.keys():\n",
    "    _root = root[key]\n",
    "    divide_ids.extend(_root[\"divide_id\"][:].tolist())\n",
    "divide_ids = np.array(divide_ids)\n",
    "np.unique(divide_ids).shape"
   ]
  },
  {
   "cell_type": "code",
   "execution_count": 19,
   "metadata": {},
   "outputs": [],
   "source": [
    "gdf.loc[~gdf.index.isin(divide_ids)].reset_index().to_file(\n",
    "    \"/projects/mhpi/tbindas/CIROH_DL_NextGen/icechunk_scripts/missing.gpkg\"\n",
    ")"
   ]
  },
  {
   "cell_type": "code",
   "execution_count": 30,
   "metadata": {},
   "outputs": [
    {
     "data": {
      "text/plain": [
       "0"
      ]
     },
     "execution_count": 30,
     "metadata": {},
     "output_type": "execute_result"
    }
   ],
   "source": [
    "count = 0\n",
    "for file in all_files:\n",
    "    count += 1\n",
    "    \n",
    "count"
   ]
  },
  {
   "cell_type": "code",
   "execution_count": null,
   "metadata": {},
   "outputs": [
    {
     "data": {
      "text/plain": [
       "array(['cat-1', 'cat-10', 'cat-100', ..., 'cat-99997', 'cat-99998',\n",
       "       'cat-99999'], shape=(831777,), dtype=object)"
      ]
     },
     "execution_count": 16,
     "metadata": {},
     "output_type": "execute_result"
    }
   ],
   "source": [
    "# From HF v2.2\n",
    "np.unique(gdf.index)"
   ]
  },
  {
   "cell_type": "code",
   "execution_count": null,
   "metadata": {},
   "outputs": [
    {
     "data": {
      "text/plain": [
       "array(['cat-100', 'cat-1000', 'cat-10000', ..., 'cat-99997', 'cat-99998',\n",
       "       'cat-99999'], shape=(637309,), dtype='<U11')"
      ]
     },
     "execution_count": 17,
     "metadata": {},
     "output_type": "execute_result"
    }
   ],
   "source": [
    "# From dHBV2.0 forwarding\n",
    "np.unique(divide_ids)"
   ]
  },
  {
   "cell_type": "code",
   "execution_count": null,
   "metadata": {},
   "outputs": [],
   "source": []
  }
 ],
 "metadata": {
  "kernelspec": {
   "display_name": "Python 3",
   "language": "python",
   "name": "python3"
  },
  "language_info": {
   "codemirror_mode": {
    "name": "ipython",
    "version": 3
   },
   "file_extension": ".py",
   "mimetype": "text/x-python",
   "name": "python",
   "nbconvert_exporter": "python",
   "pygments_lexer": "ipython3",
   "version": "3.12.9"
  }
 },
 "nbformat": 4,
 "nbformat_minor": 2
}
